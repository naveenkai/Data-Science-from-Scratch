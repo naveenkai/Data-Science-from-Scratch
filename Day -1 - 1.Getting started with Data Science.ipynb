{
 "cells": [
  {
   "cell_type": "markdown",
   "id": "ee756dff",
   "metadata": {},
   "source": [
    "# Module 1 - Topic 1"
   ]
  },
  {
   "cell_type": "markdown",
   "id": "c1f170c9",
   "metadata": {},
   "source": [
    "# Overview of data science and its application"
   ]
  },
  {
   "cell_type": "markdown",
   "id": "aa92a567",
   "metadata": {},
   "source": [
    "## Definiton of Data science"
   ]
  },
  {
   "cell_type": "markdown",
   "id": "0c0bed78",
   "metadata": {},
   "source": [
    "### Data Science is an interdisciplary field that involves extracting insights and knowledge from data using various tools and techniques..."
   ]
  },
  {
   "cell_type": "markdown",
   "id": "4c6a2995",
   "metadata": {},
   "source": [
    "## Application"
   ]
  },
  {
   "cell_type": "markdown",
   "id": "4c83580f",
   "metadata": {},
   "source": [
    "### 1. Health care - Developing predictive models for diseaaes and help doctors make bettre diagnoses\n",
    "\n",
    "### 2. Finance - Fraud detection and risk management\n",
    "\n",
    "### 3. E- commerce - personalize marketing campaigns and recommended products to customers based on their preferences"
   ]
  },
  {
   "cell_type": "markdown",
   "id": "ce72771b",
   "metadata": {},
   "source": [
    "## Importance of data science"
   ]
  },
  {
   "cell_type": "markdown",
   "id": "48217282",
   "metadata": {},
   "source": [
    "### 1. Decision making\n",
    "### 2. Innovation - development of new products and services\n",
    "### 3. Efficiency - Optimizing business by reducing the costs\n",
    "### 4. Copetative advantage - getting new business oppertunities"
   ]
  },
  {
   "cell_type": "code",
   "execution_count": null,
   "id": "3ce204fe",
   "metadata": {},
   "outputs": [],
   "source": []
  }
 ],
 "metadata": {
  "kernelspec": {
   "display_name": "Python 3 (ipykernel)",
   "language": "python",
   "name": "python3"
  },
  "language_info": {
   "codemirror_mode": {
    "name": "ipython",
    "version": 3
   },
   "file_extension": ".py",
   "mimetype": "text/x-python",
   "name": "python",
   "nbconvert_exporter": "python",
   "pygments_lexer": "ipython3",
   "version": "3.9.13"
  }
 },
 "nbformat": 4,
 "nbformat_minor": 5
}
